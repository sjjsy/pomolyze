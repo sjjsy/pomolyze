{
 "cells": [
  {
   "cell_type": "code",
   "execution_count": 63,
   "metadata": {},
   "outputs": [
    {
     "data": {
      "text/plain": [
       "'1.12.3'"
      ]
     },
     "execution_count": 63,
     "metadata": {},
     "output_type": "execute_result"
    }
   ],
   "source": [
    "import holoviews as hv\n",
    "import pandas as pd\n",
    "import numpy as np\n",
    "import datashader as ds\n",
    "import dask as dk\n",
    "import geoviews as gv\n",
    "import bokeh as bo\n",
    "hv.__version__"
   ]
  },
  {
   "cell_type": "code",
   "execution_count": 64,
   "metadata": {},
   "outputs": [],
   "source": [
    "from bokeh.io import show, output_file\n",
    "from bokeh.models import ColumnDataSource, FactorRange\n",
    "from bokeh.plotting import figure\n",
    "from bokeh.resources import CDN\n",
    "from io import StringIO, BytesIO"
   ]
  },
  {
   "cell_type": "code",
   "execution_count": 77,
   "metadata": {},
   "outputs": [],
   "source": [
    "output_file('../../_includes/bokeh/time_use_by_team.html')"
   ]
  },
  {
   "cell_type": "code",
   "execution_count": 78,
   "metadata": {},
   "outputs": [
    {
     "data": {
      "text/html": [
       "<div>\n",
       "<style scoped>\n",
       "    .dataframe tbody tr th:only-of-type {\n",
       "        vertical-align: middle;\n",
       "    }\n",
       "\n",
       "    .dataframe tbody tr th {\n",
       "        vertical-align: top;\n",
       "    }\n",
       "\n",
       "    .dataframe thead th {\n",
       "        text-align: right;\n",
       "    }\n",
       "</style>\n",
       "<table border=\"1\" class=\"dataframe\">\n",
       "  <thead>\n",
       "    <tr style=\"text-align: right;\">\n",
       "      <th></th>\n",
       "      <th>Semester</th>\n",
       "      <th>Team</th>\n",
       "      <th>Hours</th>\n",
       "    </tr>\n",
       "  </thead>\n",
       "  <tbody>\n",
       "    <tr>\n",
       "      <td>0</td>\n",
       "      <td>2016-17</td>\n",
       "      <td>MDI</td>\n",
       "      <td>56.1</td>\n",
       "    </tr>\n",
       "    <tr>\n",
       "      <td>1</td>\n",
       "      <td>2016-17</td>\n",
       "      <td>Ruka</td>\n",
       "      <td>41.2</td>\n",
       "    </tr>\n",
       "    <tr>\n",
       "      <td>2</td>\n",
       "      <td>2016-17</td>\n",
       "      <td>Other</td>\n",
       "      <td>52.8</td>\n",
       "    </tr>\n",
       "    <tr>\n",
       "      <td>3</td>\n",
       "      <td>2017-18</td>\n",
       "      <td>CGI</td>\n",
       "      <td>38.2</td>\n",
       "    </tr>\n",
       "    <tr>\n",
       "      <td>4</td>\n",
       "      <td>2017-18</td>\n",
       "      <td>Verto</td>\n",
       "      <td>39.7</td>\n",
       "    </tr>\n",
       "  </tbody>\n",
       "</table>\n",
       "</div>"
      ],
      "text/plain": [
       "  Semester   Team  Hours\n",
       "0  2016-17    MDI   56.1\n",
       "1  2016-17   Ruka   41.2\n",
       "2  2016-17  Other   52.8\n",
       "3  2017-18    CGI   38.2\n",
       "4  2017-18  Verto   39.7"
      ]
     },
     "execution_count": 78,
     "metadata": {},
     "output_type": "execute_result"
    }
   ],
   "source": [
    "df_time_use_by_team = pd.read_csv(StringIO(\"\"\"\n",
    "Semester,Team,Hours\n",
    "2016-17,MDI,56.1\n",
    "2016-17,Ruka,41.2\n",
    "2016-17,Other,52.8\n",
    "2017-18,CGI,38.2\n",
    "2017-18,Verto,39.7\n",
    "2017-18,Other,67.9\n",
    "2018-19,Accountor,34.9\n",
    "2018-19,Elisa,39.4\n",
    "2018-19,Vainu,45.7\n",
    "2018-19,Other,51.8\"\"\"))\n",
    "df_time_use_by_team.head()"
   ]
  },
  {
   "cell_type": "code",
   "execution_count": 79,
   "metadata": {},
   "outputs": [],
   "source": [
    "x = [(semester, team) for (semester, team) in df_time_use_by_team[['Semester', 'Team']].values.tolist()]"
   ]
  },
  {
   "cell_type": "code",
   "execution_count": 91,
   "metadata": {},
   "outputs": [],
   "source": [
    "colpal = bo.palettes.d3['Category10'][10]\n",
    "source = ColumnDataSource(data=dict(x=x, hours=df_time_use_by_team['Hours']))\n",
    "p = figure(x_range=FactorRange(*x), plot_width=740, plot_height=300, toolbar_location=None, tools='hover', \n",
    "tooltips=[(\"hours\", \"@hours{0.0}\"),])\n",
    "p.vbar(x='x', top='hours', width=0.9, source=source, color=colpal[0])\n",
    "p.y_range.start = 0\n",
    "p.x_range.range_padding = 0.1\n",
    "p.xaxis.major_label_orientation = 1\n",
    "p.xgrid.grid_line_color = None\n",
    "p.yaxis.axis_label = 'Time use (h)'\n",
    "show(p)"
   ]
  },
  {
   "cell_type": "code",
   "execution_count": null,
   "metadata": {},
   "outputs": [],
   "source": []
  }
 ],
 "metadata": {
  "kernelspec": {
   "display_name": "Python 3",
   "language": "python",
   "name": "python3"
  },
  "language_info": {
   "codemirror_mode": {
    "name": "ipython",
    "version": 3
   },
   "file_extension": ".py",
   "mimetype": "text/x-python",
   "name": "python",
   "nbconvert_exporter": "python",
   "pygments_lexer": "ipython3",
   "version": "3.7.4"
  }
 },
 "nbformat": 4,
 "nbformat_minor": 2
}
