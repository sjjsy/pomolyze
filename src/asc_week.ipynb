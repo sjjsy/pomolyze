{
 "cells": [
  {
   "cell_type": "code",
   "execution_count": 2,
   "metadata": {},
   "outputs": [
    {
     "name": "stderr",
     "output_type": "stream",
     "text": [
      "/home/samsy/.anaconda3-root/envs/pyviz/lib/python3.7/site-packages/xarray/core/merge.py:17: FutureWarning: The Panel class is removed from pandas. Accessing it from the top-level namespace will also be removed in the next version\n",
      "  PANDAS_TYPES = (pd.Series, pd.DataFrame, pd.Panel)\n"
     ]
    },
    {
     "data": {
      "text/plain": [
       "'1.12.3'"
      ]
     },
     "execution_count": 2,
     "metadata": {},
     "output_type": "execute_result"
    }
   ],
   "source": [
    "import holoviews as hv\n",
    "import pandas as pd\n",
    "import numpy as np\n",
    "import datashader as ds\n",
    "import dask as dk\n",
    "import geoviews as gv\n",
    "import bokeh as bo\n",
    "hv.__version__"
   ]
  },
  {
   "cell_type": "code",
   "execution_count": 3,
   "metadata": {},
   "outputs": [],
   "source": [
    "from bokeh.io import show, output_file\n",
    "from bokeh.models import ColumnDataSource, FactorRange\n",
    "from bokeh.plotting import figure\n",
    "from bokeh.resources import CDN\n",
    "from io import StringIO, BytesIO"
   ]
  },
  {
   "cell_type": "code",
   "execution_count": 4,
   "metadata": {},
   "outputs": [],
   "source": [
    "output_file('../../_includes/bokeh/time_use_by_week.html')"
   ]
  },
  {
   "cell_type": "code",
   "execution_count": 9,
   "metadata": {},
   "outputs": [
    {
     "data": {
      "text/html": [
       "<div>\n",
       "<style scoped>\n",
       "    .dataframe tbody tr th:only-of-type {\n",
       "        vertical-align: middle;\n",
       "    }\n",
       "\n",
       "    .dataframe tbody tr th {\n",
       "        vertical-align: top;\n",
       "    }\n",
       "\n",
       "    .dataframe thead th {\n",
       "        text-align: right;\n",
       "    }\n",
       "</style>\n",
       "<table border=\"1\" class=\"dataframe\">\n",
       "  <thead>\n",
       "    <tr style=\"text-align: right;\">\n",
       "      <th></th>\n",
       "      <th>Week</th>\n",
       "      <th>2016-17</th>\n",
       "      <th>2017-18</th>\n",
       "      <th>2018-19</th>\n",
       "    </tr>\n",
       "  </thead>\n",
       "  <tbody>\n",
       "    <tr>\n",
       "      <td>0</td>\n",
       "      <td>35</td>\n",
       "      <td>0.0</td>\n",
       "      <td>0.0</td>\n",
       "      <td>0.2</td>\n",
       "    </tr>\n",
       "    <tr>\n",
       "      <td>1</td>\n",
       "      <td>36</td>\n",
       "      <td>0.0</td>\n",
       "      <td>0.1</td>\n",
       "      <td>0.9</td>\n",
       "    </tr>\n",
       "    <tr>\n",
       "      <td>2</td>\n",
       "      <td>37</td>\n",
       "      <td>0.0</td>\n",
       "      <td>0.3</td>\n",
       "      <td>0.9</td>\n",
       "    </tr>\n",
       "    <tr>\n",
       "      <td>3</td>\n",
       "      <td>38</td>\n",
       "      <td>0.0</td>\n",
       "      <td>8.8</td>\n",
       "      <td>0.7</td>\n",
       "    </tr>\n",
       "    <tr>\n",
       "      <td>4</td>\n",
       "      <td>39</td>\n",
       "      <td>0.0</td>\n",
       "      <td>8.7</td>\n",
       "      <td>0.0</td>\n",
       "    </tr>\n",
       "  </tbody>\n",
       "</table>\n",
       "</div>"
      ],
      "text/plain": [
       "  Week  2016-17  2017-18  2018-19\n",
       "0   35      0.0      0.0      0.2\n",
       "1   36      0.0      0.1      0.9\n",
       "2   37      0.0      0.3      0.9\n",
       "3   38      0.0      8.8      0.7\n",
       "4   39      0.0      8.7      0.0"
      ]
     },
     "execution_count": 9,
     "metadata": {},
     "output_type": "execute_result"
    }
   ],
   "source": [
    "df = pd.read_csv(StringIO(\"\"\"\n",
    "Week,2016-17,2017-18,2018-19\n",
    "35,0.0,0.0,0.2\n",
    "36,0.0,0.1,0.9\n",
    "37,0.0,0.3,0.9\n",
    "38,0.0,8.8,0.7\n",
    "39,0.0,8.7,0.0\n",
    "40,0.0,9.1,0.0\n",
    "41,0.0,1.5,2.4\n",
    "42,0.0,7.1,3.4\n",
    "43,0.0,8.5,7.4\n",
    "44,0.0,8.5,6.5\n",
    "45,0.0,3.9,7.7\n",
    "46,0.0,3.1,6.0\n",
    "47,0.0,2.9,6.0\n",
    "48,0.0,4.5,9.8\n",
    "49,0.0,6.9,7.6\n",
    "50,0.0,8.1,6.6\n",
    "51,0.2,5.4,0.5\n",
    "52,0.2,3.9,0.5\n",
    "1,0.2,2.7,0.7\n",
    "2,1.7,2.8,2.3\n",
    "3,2.9,2.1,8.5\n",
    "4,7.7,1.5,8.8\n",
    "5,8.8,1.4,7.3\n",
    "6,7.7,0.1,3.3\n",
    "7,3.9,0.1,4.5\n",
    "8,3.8,3.6,7.6\n",
    "9,8.6,6.1,10.6\n",
    "10,7.6,7.1,10.2\n",
    "11,5.3,5.0,8.6\n",
    "12,4.4,2.5,3.9\n",
    "13,5.4,1.4,2.1\n",
    "14,6.7,0.2,2.8\n",
    "15,2.8,1.9,6.8\n",
    "16,1.8,2.1,8.5\n",
    "17,0.1,2.0,6.2\n",
    "18,0.1,2.9,1.9\n",
    "19,0.1,2.8,0.0\n",
    "20,0.0,3.2,0.0\n",
    "21,0.0,1.2,0.0\n",
    "22,0.0,1.2,0.0\n",
    "23,0.0,0.7,0.0\"\"\"), dtype={'Week': 'str'})\n",
    "df.head()"
   ]
  },
  {
   "cell_type": "code",
   "execution_count": 86,
   "metadata": {},
   "outputs": [],
   "source": [
    "source = ColumnDataSource(data={\n",
    "  'week': df['Week'],\n",
    "  'h1': df['2016-17'],\n",
    "  'h2': df['2017-18'],\n",
    "  'h3': df['2018-19'],\n",
    "})"
   ]
  },
  {
   "cell_type": "code",
   "execution_count": 87,
   "metadata": {},
   "outputs": [],
   "source": [
    "#hover = bo.models.HoverTool(mode='vline', line_policy='next', tooltips=[(\"Week\", \"@week\"),\n",
    "#    (\"2016-17\", \"@h1{0.0}\"), (\"2017-18\", \"@h2{0.0}\"), (\"2018-19\", \"@h3{0.0}\")])\n",
    "hover1 = bo.models.HoverTool(mode='vline', line_policy='nearest', names=['h1'], tooltips=[(\"2016-17\", \"@h1{0.0}\")])\n",
    "hover2 = bo.models.HoverTool(mode='vline', line_policy='nearest', names=['h2'], tooltips=[(\"2017-18\", \"@h2{0.0}\")])\n",
    "hover3 = bo.models.HoverTool(mode='vline', line_policy='nearest', names=['h3'], tooltips=[(\"2018-19\", \"@h3{0.0}\")])\n",
    "colpal = bo.palettes.d3['Category10'][10]\n",
    "p = figure(x_range=df['Week'], plot_width=740, plot_height=300, toolbar_location=None, tools=[hover1,hover2,hover3])\n",
    "p.circle(x='week', y='h1', line_color=colpal[0], line_width=3, source=source)\n",
    "p.circle(x='week', y='h2', line_color=colpal[1], line_width=3, source=source)\n",
    "p.circle(x='week', y='h3', line_color=colpal[2], line_width=3, source=source)\n",
    "p.line(x='week', y='h1', line_color=colpal[0], line_width=3, source=source, name='h1', legend='2016-17')\n",
    "p.line(x='week', y='h2', line_color=colpal[1], line_width=3, source=source, name='h2', legend='2017-18')\n",
    "p.line(x='week', y='h3', line_color=colpal[2], line_width=3, source=source, name='h3', legend='2018-19')\n",
    "#p.multi_line(xs=['week','week','week'], ys=['h1','h2','h3'], line_width=3, color=colpal[0:3], source=source)\n",
    "p.yaxis.axis_label = 'Time use (h/week)'\n",
    "show(p)"
   ]
  },
  {
   "cell_type": "code",
   "execution_count": null,
   "metadata": {},
   "outputs": [],
   "source": []
  }
 ],
 "metadata": {
  "kernelspec": {
   "display_name": "Python 3",
   "language": "python",
   "name": "python3"
  },
  "language_info": {
   "codemirror_mode": {
    "name": "ipython",
    "version": 3
   },
   "file_extension": ".py",
   "mimetype": "text/x-python",
   "name": "python",
   "nbconvert_exporter": "python",
   "pygments_lexer": "ipython3",
   "version": "3.7.4"
  }
 },
 "nbformat": 4,
 "nbformat_minor": 2
}
